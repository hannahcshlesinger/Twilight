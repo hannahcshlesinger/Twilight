{
 "cells": [
  {
   "cell_type": "markdown",
   "id": "006b311f-581b-4a1e-a98d-fd99df2aa1c0",
   "metadata": {},
   "source": [
    "\n",
    "# Analyzing Intimacy in *The Twilight Saga* by Stephanie Meyer\n",
    "\n",
    "## Hannah Shlesinger\n",
    "\n",
    "15 August 2021\n",
    "\n",
    "Introduction to Computational Literary Analysis\n",
    "\n",
    "Digital Humanities 150C\n",
    "\n",
    "Instructor: Jonathan Reeve\n",
    "\n",
    "\n"
   ]
  },
  {
   "cell_type": "markdown",
   "id": "e064678f-0b83-4b15-956c-b9fc84eb3baf",
   "metadata": {},
   "source": [
    "## Introduction\n",
    "\n",
    "Since its publication in 2005, *The Twilight Saga* many have praised and disparaged the romance between high schooler Bella and her swoony Vampire boyfriend Edward. Over time, the book series and movie franchise has been criticized for its many flaws, namely the unhealthy relationship between Edward and Bella, and general misogyny, sexism, and racism. Yet, despite its flaws, many readers think of the series with a degree of fondness. While it would be a worthy endeavor to take any one of its flaws and blow it up for examination, I am not going to be directing my focus on its flaws. Instead, I am interested in unpacking exactly how *Twilight* connects and resonates with its readers. \n",
    "\n",
    "One theory discussed in the study of Young Adult Literature scholarship is the notion of narrative intimacy between young adolescent readers and narrators. In her book *Reading Like a Girl: Narrative Intimacy in Contemporary Young Adult Literature,* Sara K. Day describes narrative intimacy as \"a desire on the part of many adolescent women readers to identify so strongly with characters that the line between fictional story and real reading experience can be blurred or disregarded entirely\" (3). Day breaks down the typical methods authors use to establish this intimacy between their narrators and intended readers. She emphasizes the importance of writing in first person perspective and present tense to create a sense immediacy and full reader immersion into the text. Furthermore, narrators will often disclose their deepest secrets and confessions to their readers, sharing their feelings with the reader before they confessing them to any other characters in the novel (4). This is executed most directly in epistolary form or novels that incorporate some sort of diary fiction. \n",
    "\n",
    "*The Twilight Saga* practices a few of these methods like narrating the story in first person point of view. Yet, how exactly can one quantify and calculate more abstract moments of narrative intimacy between Bella and her readers? Using computational methods, I will attempt to quantify and compute the moments of intimacy in *The Twilight Saga.* Specifically, I will be looking at the emotional and physical language in order to see how emotional each novel is and how these emotions are being described in different contexts.  \n"
   ]
  },
  {
   "cell_type": "markdown",
   "id": "181a2e5c-396d-4a6b-8020-716dcd653a06",
   "metadata": {},
   "source": [
    "# Import Libraries"
   ]
  },
  {
   "cell_type": "code",
   "execution_count": 1,
   "id": "ff2b4416-5db0-4f0f-97e4-cb495ea83df6",
   "metadata": {},
   "outputs": [],
   "source": [
    "#get corpus\n",
    "import requests\n",
    "\n",
    "#import libraries\n",
    "import nltk\n",
    "from nltk import word_tokenize, sent_tokenize\n",
    "from nltk.corpus import wordnet as wn\n",
    "from nltk.corpus import stopwords\n",
    "\n",
    "import pandas as pd\n",
    "import matplotlib.pyplot as plt\n",
    "%matplotlib inline\n",
    "import time\n",
    "\n",
    "import seaborn as sns\n",
    "\n",
    "import collections\n",
    "from collections import Counter"
   ]
  },
  {
   "cell_type": "code",
   "execution_count": 2,
   "id": "3c8909cb-6a17-4d30-97f7-569f8524e78d",
   "metadata": {},
   "outputs": [],
   "source": [
    "lemmatizer = nltk.stem.WordNetLemmatizer()"
   ]
  },
  {
   "cell_type": "markdown",
   "id": "cb05545d-ddd4-410e-977c-d0210817eed3",
   "metadata": {},
   "source": [
    "# Import the corpus\n",
    "\n",
    "I got most of the novels in the series from The Internet Archive. After downloading the texts, I uploaded the files to my [GitHub](https://github.com/hannahcshlesinger/twilight) repository so that this notebook will be accessible to others interested in adding on or altering the code for their own projects and research. I wrote a function to grab the texts and assigned them to variables. "
   ]
  },
  {
   "cell_type": "code",
   "execution_count": 3,
   "id": "c47e7b28-373b-4f4b-b8aa-b33a0a99fa56",
   "metadata": {},
   "outputs": [],
   "source": [
    "#make a function to grab all the texts from the github repo\n",
    "def getTexts(link):\n",
    "    response = requests.get(link)\n",
    "    return response.text"
   ]
  },
  {
   "cell_type": "code",
   "execution_count": 4,
   "id": "a8202636-2be2-48ad-ad76-7efe542eea2a",
   "metadata": {},
   "outputs": [],
   "source": [
    "twilight = getTexts('https://raw.githubusercontent.com/hannahcshlesinger/twilight/main/texts/twilight.txt')\n",
    "new_moon = getTexts('https://raw.githubusercontent.com/hannahcshlesinger/twilight/main/texts/New_Moon.txt')\n",
    "eclipse = getTexts('https://raw.githubusercontent.com/hannahcshlesinger/twilight/main/texts/Eclipse.txt')\n",
    "breaking_dawn = getTexts('https://raw.githubusercontent.com/hannahcshlesinger/twilight/main/texts/breaking_dawn.txt')\n",
    " \n",
    "\n",
    "#make a list of novel names and of the text \n",
    "novel_titles = [\"twilight\", \"new_moon\", \"eclipse\", \"breaking_dawn\"]\n",
    "novel_texts = [twilight, new_moon, eclipse, breaking_dawn]\n",
    "\n",
    "#make a dictionary of all the novel names with their text\n",
    "novelDict = {twilight, new_moon, eclipse, breaking_dawn}"
   ]
  },
  {
   "cell_type": "code",
   "execution_count": 5,
   "id": "01fe8639-18f5-4c25-a910-18de2f7c493d",
   "metadata": {},
   "outputs": [],
   "source": [
    "novelDict = {novel: text for novel, text in zip(novel_titles, novel_texts)}"
   ]
  },
  {
   "cell_type": "markdown",
   "id": "67c598a2-594a-43a5-8ef3-d6e6d552e54e",
   "metadata": {},
   "source": [
    "# Pre-Process the text\n",
    "\n",
    "Before running the text through analysis, I wrote a function to output only alphabetized tokens of each texts. "
   ]
  },
  {
   "cell_type": "code",
   "execution_count": 6,
   "id": "afc485c7-b517-4494-ae56-0201cfdfca9b",
   "metadata": {},
   "outputs": [],
   "source": [
    "#pre-process the text\n",
    "    #lowercase\n",
    "    #tokenize\n",
    "    #get only alphabetical tokens \n",
    "    \n",
    "def getAlphaTokens(text):\n",
    "    lowerTokens = nltk.word_tokenize(text.lower())\n",
    "    alphaTokens = [token for token in lowerTokens if token.isalpha()]\n",
    "    return alphaTokens"
   ]
  },
  {
   "cell_type": "code",
   "execution_count": 7,
   "id": "7c2b10f6-daf5-4b15-bb9d-9c3cbbf131ce",
   "metadata": {},
   "outputs": [],
   "source": [
    "twilight_tokens = getAlphaTokens(twilight)\n",
    "new_moon_tokens = getAlphaTokens(new_moon)\n",
    "eclipse_tokens = getAlphaTokens(eclipse)\n",
    "breaking_dawn_tokens = getAlphaTokens(breaking_dawn)"
   ]
  },
  {
   "cell_type": "code",
   "execution_count": 8,
   "id": "8b111482-d04f-4a7b-9011-ec789535937c",
   "metadata": {},
   "outputs": [],
   "source": [
    "allTokens = twilight_tokens + new_moon_tokens + eclipse_tokens + breaking_dawn_tokens"
   ]
  },
  {
   "cell_type": "markdown",
   "id": "494f2c7a-1734-4553-9c6b-ad34cb066444",
   "metadata": {},
   "source": [
    "# Which novel is the most emotional?\n",
    "\n",
    "How can we quantify how emotional a novel is? For this analysis, I am defining the most emotional novel as the novel with the highest frequency of emotion words. I used WordNet to extract a large tree of emotion words. While WordNet is imperfect, it does provide a generally wide net of emotions to use to test the novels. "
   ]
  },
  {
   "cell_type": "code",
   "execution_count": 9,
   "id": "7e2b223c-4c54-481f-8fb6-7c0e43859321",
   "metadata": {},
   "outputs": [],
   "source": [
    "emotion = wn.synsets('emotion')[0]"
   ]
  },
  {
   "cell_type": "code",
   "execution_count": 10,
   "id": "4ed667e7-b29d-435d-91f7-c586acb942e7",
   "metadata": {},
   "outputs": [],
   "source": [
    "def getHyponym(word):\n",
    "    return word.hyponyms()"
   ]
  },
  {
   "cell_type": "code",
   "execution_count": 11,
   "id": "a615f77c-9e8c-4e45-8ebc-6eaff2754111",
   "metadata": {},
   "outputs": [],
   "source": [
    "emotionTree = emotion.tree(rel=getHyponym)"
   ]
  },
  {
   "cell_type": "code",
   "execution_count": 12,
   "id": "0171058d-f349-4e93-bedc-e6e4c5f1c434",
   "metadata": {},
   "outputs": [
    {
     "data": {
      "text/plain": [
       "[Synset('anger.n.01'),\n",
       " [Synset('annoyance.n.02'),\n",
       "  [Synset('aggravation.n.01')],\n",
       "  [Synset('displeasure.n.01')],\n",
       "  [Synset('frustration.n.03')],\n",
       "  [Synset('harassment.n.01')],\n",
       "  [Synset('pique.n.02')]],\n",
       " [Synset('bad_temper.n.01'),\n",
       "  [Synset('fit.n.01')],\n",
       "  [Synset('irascibility.n.01')]],\n",
       " [Synset('dander.n.02')],\n",
       " [Synset('fury.n.01'), [Synset('lividity.n.01')], [Synset('wrath.n.01')]],\n",
       " [Synset('huffiness.n.01')],\n",
       " [Synset('indignation.n.01'), [Synset('dudgeon.n.01')]],\n",
       " [Synset('infuriation.n.01')],\n",
       " [Synset('umbrage.n.01')]]"
      ]
     },
     "execution_count": 12,
     "metadata": {},
     "output_type": "execute_result"
    }
   ],
   "source": [
    "emotionTree[1]"
   ]
  },
  {
   "cell_type": "code",
   "execution_count": 13,
   "id": "75b3d9be-48a8-48b3-82db-cbe942019197",
   "metadata": {},
   "outputs": [],
   "source": [
    "def isSynset(node):\n",
    "    return type(node) == nltk.corpus.reader.wordnet.Synset"
   ]
  },
  {
   "cell_type": "code",
   "execution_count": 14,
   "id": "6b3601ac-bc15-4b3c-be62-b845094ce18e",
   "metadata": {},
   "outputs": [],
   "source": [
    "def getLemmas(tree):\n",
    "    allLemmas = []\n",
    "    for node in tree:\n",
    "        if isSynset(node):\n",
    "            nodeLemmas = node.lemma_names()\n",
    "            for lemma in nodeLemmas:\n",
    "                allLemmas.append(lemma)\n",
    "        else:\n",
    "            nodeLemmas = getLemmas(node)\n",
    "            for lemma in nodeLemmas:\n",
    "                allLemmas.append(lemma)\n",
    "    return allLemmas\n",
    "           "
   ]
  },
  {
   "cell_type": "code",
   "execution_count": 15,
   "id": "4b9d0dfd-bd36-4d13-a154-5a747ac978fe",
   "metadata": {},
   "outputs": [],
   "source": [
    "emotionLemmas = getLemmas(emotionTree)"
   ]
  },
  {
   "cell_type": "markdown",
   "id": "1715d1b8-16df-4bd5-b749-e2d8c5c9227d",
   "metadata": {},
   "source": [
    "### Removing select words\n",
    "\n",
    "As mentioned, WordNet isn't perfect and can't always pick words that match the proper context. Below are some words that appeared in high frequency as emotion words that I manually removed to get more accurate results. "
   ]
  },
  {
   "cell_type": "code",
   "execution_count": 16,
   "id": "9637cb5d-f2c4-4940-9197-35934427b617",
   "metadata": {},
   "outputs": [],
   "source": [
    "emotionLemmas.remove('fit')\n",
    "emotionLemmas.remove('venom')\n",
    "emotionLemmas.remove('spirit')\n",
    "emotionLemmas.remove('scene')"
   ]
  },
  {
   "cell_type": "code",
   "execution_count": 17,
   "id": "cc4a5862-ea79-446b-a49c-9228e71e3ff6",
   "metadata": {},
   "outputs": [],
   "source": [
    "def getEmotions(text):\n",
    "    tokens = getAlphaTokens(text)\n",
    "    emotions = [token for token in tokens if token in emotionLemmas]\n",
    "    return emotions"
   ]
  },
  {
   "cell_type": "code",
   "execution_count": 18,
   "id": "b1aad9ac-124b-4263-a617-5083753e1b55",
   "metadata": {},
   "outputs": [],
   "source": [
    "def emotionFreq(text):\n",
    "    emotion_words = len(getEmotions(text))\n",
    "    total_words = len(nltk.word_tokenize(text))\n",
    "    emotion_freq = emotion_words / total_words\n",
    "    return emotion_freq\n",
    "    "
   ]
  },
  {
   "cell_type": "code",
   "execution_count": 19,
   "id": "d3d43f0d-e3aa-4711-b1c4-2a07181a6b34",
   "metadata": {},
   "outputs": [],
   "source": [
    "emotionDict = {nov: emotionFreq(novelDict[nov]) for nov in novelDict}"
   ]
  },
  {
   "cell_type": "code",
   "execution_count": 20,
   "id": "eb108b8e-522f-40fb-b166-32916f6ea642",
   "metadata": {},
   "outputs": [
    {
     "data": {
      "text/plain": [
       "{'twilight': 0.0027253437502027787,\n",
       " 'new_moon': 0.0026919975333238462,\n",
       " 'eclipse': 0.003045320323533188,\n",
       " 'breaking_dawn': 0.0023449565146712184}"
      ]
     },
     "execution_count": 20,
     "metadata": {},
     "output_type": "execute_result"
    }
   ],
   "source": [
    "emotionDict"
   ]
  },
  {
   "cell_type": "markdown",
   "id": "76f0e653-1d5a-4011-bf73-f8a40bdeb39c",
   "metadata": {},
   "source": [
    "# *Eclipse* is the most emotional novel in *The Twilight Saga*\n",
    "To start my analysis, I decided to see how the novels compare to each other. Being familiar with the texts myself, I assumed *Breaking Dawn* would be the most emotional novel in the whole series. After running the  frequency functions, I was surprised to see that *Eclipse* had the highest frequency of emotion words. Following my definition, this places *Eclipse* as the most emotional novel in the series. When thinking back on the plot, I recalled a few plot points that might be related to the increase in emotions. For one, the building love triangle in the series between Bella, Edward, and her old werewolf friend Jacob comes to a head. Bella realizes she loves both of them, but after kissing Jacob, she ultimately turns him away in favor of accepting a marriage proposal from Edward. Furthermore, in book series, authors will often drive up conflict and tension in the penultimate novel in order to serve up a more satisfying conclusion to their work. So, structurally, there is also a functional reason to have emotions at a peak in the third novel. "
   ]
  },
  {
   "cell_type": "markdown",
   "id": "4eccb38b-b4c8-4917-a7cf-77a7d4e83ac3",
   "metadata": {},
   "source": [
    "# What are the most frequent emotions in *The Twilight Saga*?\n",
    "\n",
    "Now that I've established *Eclipse* as the most emotional novel in the series, it is time to see which emotion words appear in the highest frequency throughout the text. To do so, I wrote a function to count the number of times an emotion word is used in each text and return the top eight most common words. I then wrote a function to take the emotion word count, calculate the frequency of the emotion words with proportion to the rest of the text and added this information to a data frame. After I ran this function for each novel, I concatenated the data frames together and graphed the results. \n"
   ]
  },
  {
   "cell_type": "code",
   "execution_count": 26,
   "id": "ce894abe-3984-42b8-9235-962063c4b543",
   "metadata": {},
   "outputs": [],
   "source": [
    "counted = collections.Counter\n",
    "\n",
    "def emotionCount(text):\n",
    "    count = counted(getEmotions(text)).most_common(8)\n",
    "    return count"
   ]
  },
  {
   "cell_type": "code",
   "execution_count": 27,
   "id": "8631938b-16ce-41e0-b169-f0d763fe58a2",
   "metadata": {},
   "outputs": [],
   "source": [
    "def makeDF(text, novelTitle):\n",
    "    total_words = len(nltk.word_tokenize(text))\n",
    "    df = pd.DataFrame(emotionCount(text), columns = [\"Word\", \"Count\"])\n",
    "    df['Frequency'] = (df[\"Count\"] / total_words)\n",
    "    df['Novel'] = novelTitle\n",
    "    return df"
   ]
  },
  {
   "cell_type": "code",
   "execution_count": 28,
   "id": "678f2587-4c38-4fa2-8757-c5112acea0fb",
   "metadata": {},
   "outputs": [],
   "source": [
    "twilight_df = makeDF(twilight, \"Twilight\")\n",
    "new_moon_df = makeDF(new_moon, \"New Moon\")\n",
    "eclipse_df = makeDF(eclipse, \"Eclipse\")\n",
    "breaking_dawn_df = makeDF(breaking_dawn, \"Breaking Dawn\")\n"
   ]
  },
  {
   "cell_type": "code",
   "execution_count": 29,
   "id": "aa84b011-1227-4e62-acd3-736967e234b9",
   "metadata": {},
   "outputs": [],
   "source": [
    "#combine the dataframes\n",
    "novels_df = pd.concat([twilight_df, new_moon_df, eclipse_df, breaking_dawn_df])"
   ]
  },
  {
   "cell_type": "code",
   "execution_count": 31,
   "id": "6e3ee9ab-4a59-4ecc-9527-a74a6a7ed0b2",
   "metadata": {},
   "outputs": [
    {
     "data": {
      "image/png": "[encoded data removed]",
      "text/plain": [
       "<Figure size 720x360 with 1 Axes>"
      ]
     },
     "metadata": {
      "needs_background": "light"
     },
     "output_type": "display_data"
    }
   ],
   "source": [
    "plt.figure(figsize=(10,5))\n",
    "emotions_graph = sns.barplot(y = 'Frequency', \n",
    "                               x = 'Word',\n",
    "                               hue = 'Novel',\n",
    "                               data = novels_df,\n",
    "                               orient=\"v\",\n",
    "                              palette=None,)\n",
    "emotions_graph.figure.savefig('emotions_graph.jpg')"
   ]
  },
  {
   "cell_type": "markdown",
   "id": "4a7e1c06-4671-46f7-ba9f-7f06bee6e4bd",
   "metadata": {},
   "source": [
    "# High Frequency of Negative Emotions\n",
    "\n",
    "From the graph, it becomes immediately apparent that the dominant emotions in *The Twilight Saga* are negative. This reflects findings by other scholars who have run sentiment analysis on the series and have found the whole series, not just the emotion words, to score as predominantly negative (\"Sentiment Analysis of Twilight\"). The specific negative emotions like \"fear\" and \"horror\" may just be a reflection of the Paranormal subgenre. Bella is often in situations where her life is at risk, so some of these feelings make sense. However, when trying to think about how these negative emotions connect back to the theory of narrative intimacy, it is important to remember that bonding between the reader and narrator occurs during moments of heightened intensity where the narrator is likely to confess information to the reader that they keep hidden from other characters in the novel. Put another way, there may be a correlation between secrets and negative emotions which would indicate a high degree of intimacy. \n",
    "\n",
    "Furthermore, it is useful to remember that Meyer's reader base was predominantly young female teenagers. Many teenagers would relate to the dreary fear and heartbreak that Bella experiences throughout the novel. Young readers can fully insert themselves into the text and pull themselves out when they close the book, experiencing a cathartic emotional release. "
   ]
  },
  {
   "cell_type": "markdown",
   "id": "cee6119d-56a3-4734-afb8-d3d1c2e1f718",
   "metadata": {},
   "source": [
    "# Calculating other forms of intimacy\n",
    "\n",
    "Beyond emotionally intense moments, I am interested in looking at moments of heightened sensual or physical feeling. To do so, I made my own list of 'intimacy' words since WordNet couldn't offer as many relevant terms. To build my list, I brainstormed from the Day reading and generally researched sensual and intimate word lists online (“Sensual Word Menu\"). I found a lot of lists online intended for Romance and Erotica writers to use in physically intimate scenes. After building my list, I ran the same functions and processes to calculate which intimacy-related words showed up in the highest frequency for each novel."
   ]
  },
  {
   "cell_type": "code",
   "execution_count": 171,
   "id": "1f1cb007-7a35-4062-9743-52742927874d",
   "metadata": {},
   "outputs": [],
   "source": [
    "intimate_words = ['sex', 'romantic', 'romance','skin','play','sexy', 'intimate', 'kiss',\n",
    "                  'touch', 'feel', 'close', 'hold', 'moan', 'gasp', 'gasped', 'grasp'\n",
    "                  'groan','secret', 'hug', 'lips', 'bed', 'lay', 'soothe', 'hug', 'stroke', 'stroked',\n",
    "                  'handle', 'trailed', 'worship', 'rub', 'grab', 'trace', 'brush','pull',\n",
    "                  'cheek', 'trust', 'trused', 'kiss', 'kissed', 'whisper', 'whispered', \n",
    "                  'cry', 'cried', 'whimpered', 'hushed', 'quiet', 'confess', 'confessed' 'chest', 'arms',\n",
    "                 'utter', 'uttered','erotic', 'face', 'sigh', 'sighed', 'shy', 'neck', 'naked',\n",
    "                     'seduced', 'seduce', 'blush', 'blushed']\n"
   ]
  },
  {
   "cell_type": "code",
   "execution_count": 172,
   "id": "e9475c07-5d9c-47b7-b644-e1e76c9c9758",
   "metadata": {},
   "outputs": [],
   "source": [
    "def getIntimacy(text):\n",
    "    tokens = getAlphaTokens(text)\n",
    "    intimacy = [token for token in tokens if token in intimate_words]\n",
    "    return intimacy"
   ]
  },
  {
   "cell_type": "code",
   "execution_count": 173,
   "id": "a192405b-eb20-4fea-b32f-584f7b0bf787",
   "metadata": {},
   "outputs": [],
   "source": [
    "def intimateFreq(text):\n",
    "    intimate_words = len(getIntimacy(text))\n",
    "    total_words = len(nltk.word_tokenize(text))\n",
    "    intimate_freq = intimate_words / total_words\n",
    "    return intimate_freq"
   ]
  },
  {
   "cell_type": "code",
   "execution_count": 174,
   "id": "27fb0723-4658-487e-b706-1dc38050464e",
   "metadata": {},
   "outputs": [
    {
     "data": {
      "text/plain": [
       "{'twilight': 0.0075011842267486,\n",
       " 'new_moon': 0.008467340259000996,\n",
       " 'eclipse': 0.009130825523173706,\n",
       " 'breaking_dawn': 0.007388441843452816}"
      ]
     },
     "execution_count": 174,
     "metadata": {},
     "output_type": "execute_result"
    }
   ],
   "source": [
    "intimateDict = {nov: intimateFreq(novelDict[nov]) for nov in novelDict}\n",
    "intimateDict"
   ]
  },
  {
   "cell_type": "markdown",
   "id": "b5d0b317-3a44-4c34-a4ca-249ab68f712d",
   "metadata": {},
   "source": [
    "# *Eclipse* is the most intimate novel\n",
    "\n",
    "Based on the same analysis, *Eclipse* has the highest frequency of intimate words. This should be taken with a grain of salt since there is perhaps a good amount of intimacy words that overlap with words from the emotions list. What's interesting is that in terms of emotions, *Breaking Dawn* ranks as the least emotional novel after *Twilight*. It makes sense that *Twilight* would rank lower since Edward and Bella are only getting to know each other for the first time at the beginning of the series. What shocked me was that *Breaking Dawn* ranks at the bottom. *Breaking Dawn* features Edward and Bella's honeymoon vacation to Island Esme and their first sexually intimate scenes. However, Meyer often uses a 'fade to black' technique instead of explicitly describing these scenes, so this could explain the lower frequency. "
   ]
  },
  {
   "cell_type": "code",
   "execution_count": 175,
   "id": "48dce4fe-309d-40ae-bcf7-4b324bf2d8bf",
   "metadata": {},
   "outputs": [],
   "source": [
    "def intimacyCount(text):\n",
    "    count = counted(getIntimacy(text)).most_common(10)\n",
    "    return count"
   ]
  },
  {
   "cell_type": "code",
   "execution_count": 176,
   "id": "55e1c82b-3dd4-460b-87a8-fea555a08398",
   "metadata": {},
   "outputs": [],
   "source": [
    "def makeIntimacyDF(text, novelTitle):\n",
    "    total_words = len(nltk.word_tokenize(text))\n",
    "    df = pd.DataFrame(intimacyCount(text), columns = [\"Word\", \"Count\"])\n",
    "    df['Frequency'] = (df[\"Count\"] / total_words)\n",
    "    df['Novel'] = novelTitle\n",
    "    return df"
   ]
  },
  {
   "cell_type": "code",
   "execution_count": 177,
   "id": "04818706-0f41-46cf-a733-a4ca396c805e",
   "metadata": {},
   "outputs": [],
   "source": [
    "twilight_df = makeIntimacyDF(twilight, \"Twilight\")\n",
    "new_moon_df = makeIntimacyDF(new_moon, \"New Moon\")\n",
    "eclipse_df = makeIntimacyDF(eclipse, \"Eclipse\")\n",
    "breaking_dawn_df = makeIntimacyDF(breaking_dawn, \"Breaking Dawn\")"
   ]
  },
  {
   "cell_type": "code",
   "execution_count": 178,
   "id": "b80d813d-691c-4b8e-b007-3e4ee66c0e13",
   "metadata": {},
   "outputs": [],
   "source": [
    "novels_intimacydf = pd.concat([twilight_df, new_moon_df, eclipse_df, breaking_dawn_df])"
   ]
  },
  {
   "cell_type": "code",
   "execution_count": 179,
   "id": "c09c1b3b-5d6f-4c55-b3ef-233d82e1fb61",
   "metadata": {},
   "outputs": [
    {
     "data": {
      "image/png": "[encoded data removed]",
      "text/plain": [
       "<Figure size 1440x360 with 1 Axes>"
      ]
     },
     "metadata": {
      "needs_background": "light"
     },
     "output_type": "display_data"
    }
   ],
   "source": [
    "plt.figure(figsize=(20,5))\n",
    "emotions_graph = sns.barplot(y = 'Frequency', \n",
    "                               x = 'Word',\n",
    "                               hue = 'Novel',\n",
    "                               data = novels_intimacydf,\n",
    "                               orient=\"v\",\n",
    "                              palette=None,)\n",
    "emotions_graph.figure.savefig('intimacy_graph.jpg')"
   ]
  },
  {
   "cell_type": "markdown",
   "id": "0ff177ad-69dd-48df-a620-a97d0dec4f43",
   "metadata": {
    "tags": []
   },
   "source": [
    "# `Face` your `Feel`ings\n",
    "\n",
    "Immediately apparent from the results of the graph is the high frequency of the word 'face' and other body parts. Since a lot of the words I included in my intimate words list are common body parts mentioned in intimate scenes, this isn't incredibly surprising. This may be more of a reflection of the words I selected rather than a sign of how intimacy is quantified within the text. In addition, since I selectively created my own word list, I did not divide between parts of speech. It might be that Meyer uses nouns more than she uses verbs in her text, so comparing these individual words to the overall tokens in a text does separate a lot of the words from the context that their part of speech places them in. \n",
    "\n",
    "However, when taking the holistic approach, it does still tell us a lot that 'face' and 'feel' are the most frequent intimate words across all of the texts. If Bella is often discussing how she feels in her internal monologue then those uses of the word could be considered instances of confession between the narrator and the reader. While 'face' can be used as a verb, I predict that 'face' is often used in a more intimate context. To look more at the context at some of these words, I ran concordances and functions to learn more.  "
   ]
  },
  {
   "cell_type": "markdown",
   "id": "f02f349a-1bb5-4008-9ee7-e2232ee55582",
   "metadata": {},
   "source": [
    "# Contextualizing intimacy words"
   ]
  },
  {
   "cell_type": "code",
   "execution_count": 40,
   "id": "46a8fd59-3c46-4313-b917-db323adee86a",
   "metadata": {},
   "outputs": [],
   "source": [
    "def getText(text):\n",
    "    nltk_text = nltk.Text(allTokens)\n",
    "    return nltk_text"
   ]
  },
  {
   "cell_type": "code",
   "execution_count": 41,
   "id": "8ef896b6-a57f-4b00-9a00-38746bfbb4c7",
   "metadata": {},
   "outputs": [],
   "source": [
    "def getConcordance(word):\n",
    "    concordance = nltk.Text(allTokens).concordance(word, lines=20)\n",
    "    return concordance"
   ]
  },
  {
   "cell_type": "code",
   "execution_count": 42,
   "id": "58f79a49-d555-4bbb-a9ce-d0a0a1622095",
   "metadata": {},
   "outputs": [],
   "source": [
    "def dispersionPlot(word):\n",
    "    nltk.Text(allTokens).dispersion_plot(word)"
   ]
  },
  {
   "cell_type": "code",
   "execution_count": 145,
   "id": "7bb2965a-ee4d-4cf7-b6f5-acddd1a15364",
   "metadata": {},
   "outputs": [
    {
     "name": "stdout",
     "output_type": "stream",
     "text": [
      "Displaying 20 of 1515 matches:\n",
      "s allowed to call him charlie to his face i had only a few bags most of my ari\n",
      "ter the day of travel i looked at my face in the mirror as i brushed through m\n",
      "d stepped out of the truck i kept my face pulled back into my hood as i walked\n",
      " mother is part albino he studied my face apprehensively and i sighed it looke\n",
      "e or painted by an old master as the face of an angel it was hard to decide wh\n",
      " in that brief flash of a glance his face held nothing of interest it was as i\n",
      "mile then i glanced at him again his face was turned away but i thought his ch\n",
      "with the strangest expression on his face it was hostile furious i looked away\n",
      "e edge of his chair and averting his face like he smelled something bad incons\n",
      "red the biology room the look on his face must have been about another aggrava\n",
      " the desk swirling my hair around my face the girl who came in merely stepped \n",
      " he turned slowly to glare at me his face was absurdly handsome with piercing \n",
      "he door i went meekly to the desk my face white for once instead of red and ha\n",
      "alk and swirling erratically past my face ew snow there went my good day he lo\n",
      "d letting my hair fall to conceal my face i was sure though in the instant our\n",
      "commercial for hair gel his dazzling face was friendly open a slight smile on \n",
      "tified that subtie difference in his face did you get contacts i blurted out u\n",
      " for some reason i could imagine his face was such a distraction that i tried \n",
      " exactly i more annoyed at myself my face is so easy to read my mother always \n",
      "till whenever i pictured his perfect face i was well aware that my league and \n"
     ]
    }
   ],
   "source": [
    "getConcordance('face')"
   ]
  },
  {
   "cell_type": "markdown",
   "id": "23b2f338-4b7c-4639-a3ef-e57e2689d23a",
   "metadata": {},
   "source": [
    "# His perfect face \n",
    "\n",
    "Even for a concordance alone, it is clear that 'face' is often used in the context of Bella either describing her face or Edward's face. Notable is the way Bella often describes Edward as having an \"absurdly handsome,\" \"perfect,\" \"dazzling,\" \"face of an angel.\" These are only the first twenty results of 1515 matches, but I suspect many of the following descriptions would follow a similar trend. In \"The Anti-Feminist Character of Bella Swan, or Why the Twilight Saga is Regressive,\" Reni Eddo-Lodge critcizes the power imbalance between Edward and Bella with regard to physical description. Edward is often described as perfect and male while Bella is imperfect, flawed, and female. Eddo-Lodge draws specific attention to the language of idolisation and Christian undertones, the result of which they call \"an inevitable, irreconcilable inequality.\" \n",
    "\n",
    "Yet, despite its problematic and regressive nature, when trying to think about the novel from a narrative intimacy framework, I might suggest that reading a narrator who is situated as 'the worshipper' might be more relatable to readers than reading from the perspective of 'the worshipped.' If Bella Swan represents the worst most reductive female protagonist *and* she still gets a happy ending, it might be easier for readers to connect with her rather than Edward, the perfect vampire boyfriend who remains perfect throughout the series. Alicia Otano Unzue similarly argues that the problematic behaviors in the series are functionally reduced to minor details when the readers are \"eclipsed by an exaltation of feelings\" (22). "
   ]
  },
  {
   "cell_type": "code",
   "execution_count": 103,
   "id": "623d2ab1-224c-4db7-826f-826116008f45",
   "metadata": {},
   "outputs": [
    {
     "name": "stdout",
     "output_type": "stream",
     "text": [
      "Displaying 20 of 539 matches:\n",
      "my window in the morning and i could feel the claustrophobia creeping up on me\n",
      "ore i donned my jacket which had the feel of a biohazard suit and headed out i\n",
      " see its size at first where was the feel of the institution i wondered nostal\n",
      "g a purple which immediately made me feel overdressed the woman looked up can \n",
      "nd faces i now remembered i began to feel like i was treading water instead of\n",
      " and he looked relieved he seemed to feel awkward standing in the kitchen doin\n",
      "ch i ever heard charlie make he must feel strongly about whatever people were \n",
      " to work on my math homework i could feel a tradition in the making that night\n",
      "mfortable than i had thought i would feel by this point more comfortable than \n",
      "fortable than i had ever expected to feel here when we walked out of class the\n",
      " my ears were hot i had no reason to feel i reminded myself i had done anythin\n",
      " you hungry jessica asked actually i feel a little sick i said my eyes still o\n",
      "me with him now but come back if you feel dizzy or have trouble with your eyes\n",
      " could continue i was so mad i could feel the tears coming i tried to force th\n",
      "ned slowly unwillingly i did want to feel what i knew i would feel when i look\n",
      "did want to feel what i knew i would feel when i looked at his face my express\n",
      " was walking back to his car i could feel the shock on my face i looked forwar\n",
      " better go see what he wants i could feel her staring after me as i walked awa\n",
      "or stealing you they survive i could feel their stares boring into my back i m\n",
      " hungry he asked distracted no i did feel like mentioning that my stomach was \n"
     ]
    }
   ],
   "source": [
    "getConcordance('feel')"
   ]
  },
  {
   "cell_type": "markdown",
   "id": "f39be501-8258-4f85-bd24-7f5857ecc46b",
   "metadata": {},
   "source": [
    "# How `I` feel\n",
    "\n",
    "From the first 20 results of the concordance I ran above, my theory that 'feel' was being used to discuss emotions was challenged. Many of the sentences seem to describe not emotions but physical sensations. Even so, it is often Bella who is the one using these words as opposed to her describing how others around her feel. The sentence \"he seemed to feel\" refers not to Edward but Charlie, Bella's father. Similarly the sentence match with \"you feel\" is a fragment of dialogue directed at Bella. "
   ]
  },
  {
   "cell_type": "code",
   "execution_count": 157,
   "id": "1ab7d5f3-bb7d-4a64-b410-a967e5f9d693",
   "metadata": {},
   "outputs": [
    {
     "name": "stdout",
     "output_type": "stream",
     "text": [
      "Displaying 20 of 124 matches:\n",
      "m my mother so that we could stay in touch easily the rocking chair from my bab\n",
      "med like he was being careful not to touch my skin again i took the most fleeti\n",
      "his league were spheres that did not touch so i should be at all anxious to see\n",
      "re of edward sitting close enough to touch as distant as if he were merely an i\n",
      " reached forward without thinking to touch his folded hands but he slid them aw\n",
      "he pulled back slightly once more to touch the back of his hand shyly with my f\n",
      " me to the door still careful not to touch me i remembered what jessica had sai\n",
      "hat little distance to reach out and touch him but i was afraid he would like m\n",
      "as a crazy impulse to reach over and touch him to stroke his perfect face just \n",
      "x either the overpowering craving to touch him also refused to fade and i crush\n",
      " fiercely beautiful that the ache to touch him flared as strong as before my go\n",
      "h my hand across the short space and touch his cold skin as yesterday i leaned \n",
      "pped it to the table fearing that my touch would only make things worse i reali\n",
      "smile he reached across the table to touch my face lightly brushing along my ch\n",
      " instantly when i was clear his cold touch on my skin never failed to make my h\n",
      "ck ran through my body at his casual touch bella i could live with myself if i \n",
      "ck i sat very still the chill of his touch a natural warning a warning telling \n",
      "e shadows of the forest beginning to touch us and i sighed you have to go i tho\n",
      "damp hair back so that his hps could touch the hollow beneath my ear much much \n",
      "tention i could reach out meaning to touch your face and crush your skull by mi\n"
     ]
    }
   ],
   "source": [
    "getConcordance('touch')"
   ]
  },
  {
   "cell_type": "markdown",
   "id": "2efea1aa-c2f6-4ffa-b4c2-2b33eb69c79a",
   "metadata": {},
   "source": [
    "# Touch & The Body\n",
    "\n",
    "Running a concordance on 'touch' wasn't as fruitful although it did remind me to add 'skin' to the intimate words list. It's also interesting to note, at least in the inital matches, that a lot of the touching is coming from Bella. She is the one reaching out to touch Edward as opposed to him touching her. I decided to look more into language relating to the body. When I ran a four-gram, I found a lot of the common distinct phrases throughout the corpus related to the body as well. "
   ]
  },
  {
   "cell_type": "code",
   "execution_count": 59,
   "id": "2a6854f2-05bb-4b38-affc-c27566418431",
   "metadata": {},
   "outputs": [],
   "source": [
    "def commonNgrams(text, n):\n",
    "    tokens = getAlphaTokens(text)\n",
    "    stop_words = set(stopwords.words('english'))\n",
    "    no_stop_tokens = [token for token in tokens if token not in stop_words]\n",
    "    ngrams = nltk.ngrams(no_stop_tokens, n)\n",
    "    ngramsList = list(ngrams)\n",
    "    return Counter(ngramsList).most_common(4)"
   ]
  },
  {
   "cell_type": "code",
   "execution_count": 62,
   "id": "79ada280-ea49-4c2b-9c29-0806ba072e34",
   "metadata": {},
   "outputs": [],
   "source": [
    "fivegramDict = {nov: commonNgrams(novelDict[nov], 4) for nov in novelDict}"
   ]
  },
  {
   "cell_type": "code",
   "execution_count": 63,
   "id": "21fc9ba9-a0c4-47fe-b72d-6f7dafb5b801",
   "metadata": {},
   "outputs": [
    {
     "data": {
      "text/plain": [
       "{'twilight': [(('believe', 'would', 'give', 'easily'), 2),\n",
       "  (('comer', 'eye', 'leaning', 'away'), 2),\n",
       "  (('turned', 'key', 'engine', 'roared'), 2),\n",
       "  (('key', 'engine', 'roared', 'life'), 2)],\n",
       " 'new_moon': [(('shook', 'head', 'back', 'forth'), 4),\n",
       "  (('folded', 'arms', 'across', 'chest'), 4),\n",
       "  (('arm', 'around', 'waist', 'pulled'), 3),\n",
       "  (('well', 'going', 'live', 'without'), 2)],\n",
       " 'eclipse': [(('folded', 'arms', 'across', 'chest'), 6),\n",
       "  (('lips', 'pulled', 'back', 'teeth'), 5),\n",
       "  (('raised', 'one', 'eyebrow', 'knew'), 3),\n",
       "  (('pacing', 'back', 'forth', 'across'), 3)],\n",
       " 'breaking_dawn': [(('one', 'hundred', 'percent', 'sure'), 4),\n",
       "  (('tick', 'tock', 'tick', 'tock'), 4),\n",
       "  (('hachette', 'book', 'group', 'usa'), 3),\n",
       "  (('eyes', 'rolled', 'back', 'head'), 3)]}"
      ]
     },
     "execution_count": 63,
     "metadata": {},
     "output_type": "execute_result"
    }
   ],
   "source": [
    "fivegramDict"
   ]
  },
  {
   "cell_type": "markdown",
   "id": "965620db-acd1-4459-b91b-7067228d3dd6",
   "metadata": {},
   "source": [
    "# Who is touching who?\n",
    "Finally, I made some functions to look at pronouns and posessive pronouns in sentences with the different forms of 'touch' and 'feel.' The results weren't super informative, but I thought I'd include them because they could be a good building block for later investigation. "
   ]
  },
  {
   "cell_type": "code",
   "execution_count": 235,
   "id": "2fce9ae9-e98b-438c-a135-0e152b7b07f2",
   "metadata": {},
   "outputs": [],
   "source": [
    "def getPOS(text):\n",
    "    tokens = getAlphaTokens(text)\n",
    "    pos = nltk.pos_tag(tokens)\n",
    "    return pos"
   ]
  },
  {
   "cell_type": "code",
   "execution_count": 234,
   "id": "63d82dd4-f7ac-4573-af2c-e084261abc14",
   "metadata": {},
   "outputs": [],
   "source": [
    "def getTouch(wordList, text):\n",
    "    tag1, word2, tag3 = wordList\n",
    "    words = []\n",
    "    for i, wordTagPair in enumerate(text):\n",
    "        if i == len(text) - 3:\n",
    "            break\n",
    "        word, tag = wordTagPair\n",
    "        secondWord, secondTag = text[i+1]\n",
    "        thirdWord, thirdTag = text[i+2]\n",
    "        if tag == tag1:\n",
    "            if secondWord == word2:\n",
    "                if thirdTag == tag3:\n",
    "                    words.append([word, secondWord, thirdWord])\n",
    "    return words"
   ]
  },
  {
   "cell_type": "code",
   "execution_count": 236,
   "id": "45455f50-3237-449d-b3a7-997a3064ca93",
   "metadata": {},
   "outputs": [
    {
     "data": {
      "text/plain": [
       "[[], [], [['he', 'felt', 'my']], []]"
      ]
     },
     "execution_count": 236,
     "metadata": {},
     "output_type": "execute_result"
    }
   ],
   "source": [
    "felt = [getTouch(['PRP', 'felt', 'PRP$'], getPOS(text)) for text in novel_texts]\n",
    "felt"
   ]
  },
  {
   "cell_type": "code",
   "execution_count": 238,
   "id": "30a4cb10-47de-42f7-85f2-20a5c853a22b",
   "metadata": {},
   "outputs": [
    {
     "data": {
      "text/plain": [
       "[[['you', 'feel', 'he']],\n",
       " [],\n",
       " [['you', 'feel', 'you'],\n",
       "  ['you', 'feel', 'he'],\n",
       "  ['you', 'feel', 'you'],\n",
       "  ['you', 'feel', 'it']],\n",
       " [['me', 'feel', 'we'], ['they', 'feel', 'it']]]"
      ]
     },
     "execution_count": 238,
     "metadata": {},
     "output_type": "execute_result"
    }
   ],
   "source": [
    "feel = [getTouch(['PRP', 'feel', 'PRP'], getPOS(text)) for text in novel_texts]\n",
    "feel"
   ]
  },
  {
   "cell_type": "code",
   "execution_count": 239,
   "id": "98f5d832-c24f-44ce-8ede-8a106db20024",
   "metadata": {},
   "outputs": [
    {
     "data": {
      "text/plain": [
       "[[['he', 'touched', 'my']],\n",
       " [],\n",
       " [['they', 'touched', 'my'],\n",
       "  ['he', 'touched', 'his'],\n",
       "  ['he', 'touched', 'my'],\n",
       "  ['he', 'touched', 'my']],\n",
       " [['he', 'touched', 'my'],\n",
       "  ['he', 'touched', 'my'],\n",
       "  ['he', 'touched', 'my'],\n",
       "  ['she', 'touched', 'my'],\n",
       "  ['she', 'touched', 'my'],\n",
       "  ['he', 'touched', 'my'],\n",
       "  ['it', 'touched', 'my']]]"
      ]
     },
     "execution_count": 239,
     "metadata": {},
     "output_type": "execute_result"
    }
   ],
   "source": [
    "touched = [getTouch(['PRP', 'touched', 'PRP$'], getPOS(text)) for text in novel_texts]\n",
    "touched"
   ]
  },
  {
   "cell_type": "markdown",
   "id": "7e2acfb9-3247-45bb-b949-44e25b8b037f",
   "metadata": {},
   "source": [
    "# Conclusions\n",
    "\n",
    "The analysis I ran on *The Twilight Saga* novels reinforces the notions that the novels are full of negative emotions and supports previous scholars' work suggesting that the novels are negatively scored overall. The process revealed that trying to quantify and abstract ideas like emotions or intimacy is difficult or at least incredibly subjective. The process uncovered a possible pattern in the way the body and individual body parts are mentioned and described. An analysis on the body alone could be interesting and pursued in further investigations. Another point of interest was the Biblical language used to create a 'worshipper' vs 'worshiped' binary in the text. It would be interesting to see if this type of language appears in other Young Adult Romances or more specifically in other Paranormal Romances. How Christian are these romances and can that be calculated. \n",
    "\n",
    "These are all questions worthy of further investigation. However, that is where I end my own investigation within the scope of this course. I have published these findings on GitHub so that any who are curious or interested in running their own analysis on the corpus has the ability to do so. \n"
   ]
  },
  {
   "cell_type": "markdown",
   "id": "46e237ad-b949-46dc-bef9-529e98147658",
   "metadata": {},
   "source": [
    "# Works Cited\n",
    "\n",
    "Arnold, Claire, and Brendan Mobley. “Vampires, Plots, and Interactivity - Oh My!” Vampires, Plots, and Interactivity - Oh My! · Reed Data Science Spring \n",
    "2020, Reed College, 27 May 2020, www.reed.edu/math/241/2020/05/27/vampires-plots-and-interactivity-oh-my/. \n",
    "\n",
    "Day, Sara K. Reading Like a Girl : Narrative Intimacy in Contemporary American Young Adult Literature, University Press of Mississippi, 2013. \n",
    "https://search-library-berkeley-edu.libproxy.berkeley.edu/discovery/openurl?institution=01UCS_BER&vid=01UCS_BER:UCB&isbn=9781617038112&genre=book&eisbn=9781621039600&title=Reading%20Like%20a%20Girl&sid=jstor:jstor\n",
    "    \n",
    "Eddo-Lodge, Renni. “The Anti-Feminist Character of Bella Swan,  or Why the Twilight Saga Is Regressive.” The Anti-Feminist Character of Bella Swan, or Why \n",
    "    the Twilight Saga Is Regressive, Kritikos V.10, January 2013, Intertheory Press, Jan. 2013, intertheory.org/eddo-lodge.htm.\n",
    "\n",
    "“Sensual Word Menu.” Writers In The Storm Blog, 23 July 2012, writersinthestorm.wordpress.com/2011/06/10/sensual-word-menu-2/.\n",
    "\n",
    "“Twilight: A Sentiment Analysis.” Sentiment Analysis of Twilight, Elon University, student.elon.edu/mmalone9/twilight/. \n",
    "\n",
    "Unzue, Alicia Otano. “Young Adult Pop Fiction: Empathy and the Twilight Series.” European Journal of American Studies, vol. 10, no. 2, 2015, \n",
    "    doi:10.4000/ejas.11141. \n",
    "\n",
    "\n",
    " "
   ]
  }
 ],
 "metadata": {
  "kernelspec": {
   "display_name": "Python 3",
   "language": "python",
   "name": "python3"
  },
  "language_info": {
   "codemirror_mode": {
    "name": "ipython",
    "version": 3
   },
   "file_extension": ".py",
   "mimetype": "text/x-python",
   "name": "python",
   "nbconvert_exporter": "python",
   "pygments_lexer": "ipython3",
   "version": "3.8.8"
  }
 },
 "nbformat": 4,
 "nbformat_minor": 5
}
